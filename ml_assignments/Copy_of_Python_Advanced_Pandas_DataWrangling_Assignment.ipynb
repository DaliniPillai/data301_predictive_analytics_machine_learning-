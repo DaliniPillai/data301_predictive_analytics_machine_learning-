{
  "nbformat": 4,
  "nbformat_minor": 0,
  "metadata": {
    "colab": {
      "name": "Copy of Python_Advanced_Pandas_DataWrangling_Assignment.ipynb",
      "provenance": [],
      "collapsed_sections": [],
      "toc_visible": true
    },
    "kernelspec": {
      "name": "python3",
      "display_name": "Python 3"
    }
  },
  "cells": [
    {
      "cell_type": "markdown",
      "metadata": {
        "id": "M9lK1TbaRC11"
      },
      "source": [
        "# Assignment 1 : Python Data Analysis using salaries dataset"
      ]
    },
    {
      "cell_type": "markdown",
      "metadata": {
        "id": "CHpOD5OcaO9j"
      },
      "source": [
        "# Data Exploration:  This should include summary statistics, means, medians, quartiles, or any other relevant information about the data set. "
      ]
    },
    {
      "cell_type": "code",
      "metadata": {
        "id": "NB7kwRqMaFIA"
      },
      "source": [
        "import pandas as pd \n",
        "import numpy as np\n",
        "import matplotlib.pyplot as plt\n",
        "%matplotlib inline"
      ],
      "execution_count": null,
      "outputs": []
    },
    {
      "cell_type": "code",
      "metadata": {
        "id": "SBTN0yjtbEBP"
      },
      "source": [
        "df = pd.read_csv('https://raw.githubusercontent.com/niteen11/data301_predictive_analytics_machine_learning/main/data/Salaries.csv')"
      ],
      "execution_count": null,
      "outputs": []
    },
    {
      "cell_type": "code",
      "metadata": {
        "id": "eOTZmRkCbyBY",
        "colab": {
          "base_uri": "https://localhost:8080/"
        },
        "outputId": "1bf1bc6e-83f5-4c75-aabd-c39a02c91de8"
      },
      "source": [
        "type(df)"
      ],
      "execution_count": null,
      "outputs": [
        {
          "output_type": "execute_result",
          "data": {
            "text/plain": [
              "pandas.core.frame.DataFrame"
            ]
          },
          "metadata": {},
          "execution_count": 92
        }
      ]
    },
    {
      "cell_type": "code",
      "metadata": {
        "id": "A4UW5eOccATX",
        "colab": {
          "base_uri": "https://localhost:8080/"
        },
        "outputId": "f3e46674-168b-4373-8a02-88bde4c6e60d"
      },
      "source": [
        "# 397 rows = 397 employees\n",
        "df.shape"
      ],
      "execution_count": null,
      "outputs": [
        {
          "output_type": "execute_result",
          "data": {
            "text/plain": [
              "(397, 7)"
            ]
          },
          "metadata": {},
          "execution_count": 93
        }
      ]
    },
    {
      "cell_type": "code",
      "metadata": {
        "id": "IERZRhoJbYxC",
        "colab": {
          "base_uri": "https://localhost:8080/",
          "height": 204
        },
        "outputId": "9b7aaa17-2b46-41cf-9abc-00a8371b369b"
      },
      "source": [
        "df.head()"
      ],
      "execution_count": null,
      "outputs": [
        {
          "output_type": "execute_result",
          "data": {
            "text/html": [
              "<div>\n",
              "<style scoped>\n",
              "    .dataframe tbody tr th:only-of-type {\n",
              "        vertical-align: middle;\n",
              "    }\n",
              "\n",
              "    .dataframe tbody tr th {\n",
              "        vertical-align: top;\n",
              "    }\n",
              "\n",
              "    .dataframe thead th {\n",
              "        text-align: right;\n",
              "    }\n",
              "</style>\n",
              "<table border=\"1\" class=\"dataframe\">\n",
              "  <thead>\n",
              "    <tr style=\"text-align: right;\">\n",
              "      <th></th>\n",
              "      <th>Unnamed: 0</th>\n",
              "      <th>rank</th>\n",
              "      <th>discipline</th>\n",
              "      <th>yrs.since.phd</th>\n",
              "      <th>yrs.service</th>\n",
              "      <th>sex</th>\n",
              "      <th>salary</th>\n",
              "    </tr>\n",
              "  </thead>\n",
              "  <tbody>\n",
              "    <tr>\n",
              "      <th>0</th>\n",
              "      <td>1</td>\n",
              "      <td>Prof</td>\n",
              "      <td>B</td>\n",
              "      <td>19</td>\n",
              "      <td>18</td>\n",
              "      <td>Male</td>\n",
              "      <td>139750</td>\n",
              "    </tr>\n",
              "    <tr>\n",
              "      <th>1</th>\n",
              "      <td>2</td>\n",
              "      <td>Prof</td>\n",
              "      <td>B</td>\n",
              "      <td>20</td>\n",
              "      <td>16</td>\n",
              "      <td>Male</td>\n",
              "      <td>173200</td>\n",
              "    </tr>\n",
              "    <tr>\n",
              "      <th>2</th>\n",
              "      <td>3</td>\n",
              "      <td>AsstProf</td>\n",
              "      <td>B</td>\n",
              "      <td>4</td>\n",
              "      <td>3</td>\n",
              "      <td>Male</td>\n",
              "      <td>79750</td>\n",
              "    </tr>\n",
              "    <tr>\n",
              "      <th>3</th>\n",
              "      <td>4</td>\n",
              "      <td>Prof</td>\n",
              "      <td>B</td>\n",
              "      <td>45</td>\n",
              "      <td>39</td>\n",
              "      <td>Male</td>\n",
              "      <td>115000</td>\n",
              "    </tr>\n",
              "    <tr>\n",
              "      <th>4</th>\n",
              "      <td>5</td>\n",
              "      <td>Prof</td>\n",
              "      <td>B</td>\n",
              "      <td>40</td>\n",
              "      <td>41</td>\n",
              "      <td>Male</td>\n",
              "      <td>141500</td>\n",
              "    </tr>\n",
              "  </tbody>\n",
              "</table>\n",
              "</div>"
            ],
            "text/plain": [
              "   Unnamed: 0      rank discipline  yrs.since.phd  yrs.service   sex  salary\n",
              "0           1      Prof          B             19           18  Male  139750\n",
              "1           2      Prof          B             20           16  Male  173200\n",
              "2           3  AsstProf          B              4            3  Male   79750\n",
              "3           4      Prof          B             45           39  Male  115000\n",
              "4           5      Prof          B             40           41  Male  141500"
            ]
          },
          "metadata": {},
          "execution_count": 94
        }
      ]
    },
    {
      "cell_type": "code",
      "metadata": {
        "id": "va7JVaVkbgf5",
        "colab": {
          "base_uri": "https://localhost:8080/",
          "height": 204
        },
        "outputId": "e637fcc8-80c5-430e-ef27-b9c061a5e161"
      },
      "source": [
        "df.tail()"
      ],
      "execution_count": null,
      "outputs": [
        {
          "output_type": "execute_result",
          "data": {
            "text/html": [
              "<div>\n",
              "<style scoped>\n",
              "    .dataframe tbody tr th:only-of-type {\n",
              "        vertical-align: middle;\n",
              "    }\n",
              "\n",
              "    .dataframe tbody tr th {\n",
              "        vertical-align: top;\n",
              "    }\n",
              "\n",
              "    .dataframe thead th {\n",
              "        text-align: right;\n",
              "    }\n",
              "</style>\n",
              "<table border=\"1\" class=\"dataframe\">\n",
              "  <thead>\n",
              "    <tr style=\"text-align: right;\">\n",
              "      <th></th>\n",
              "      <th>Unnamed: 0</th>\n",
              "      <th>rank</th>\n",
              "      <th>discipline</th>\n",
              "      <th>yrs.since.phd</th>\n",
              "      <th>yrs.service</th>\n",
              "      <th>sex</th>\n",
              "      <th>salary</th>\n",
              "    </tr>\n",
              "  </thead>\n",
              "  <tbody>\n",
              "    <tr>\n",
              "      <th>392</th>\n",
              "      <td>393</td>\n",
              "      <td>Prof</td>\n",
              "      <td>A</td>\n",
              "      <td>33</td>\n",
              "      <td>30</td>\n",
              "      <td>Male</td>\n",
              "      <td>103106</td>\n",
              "    </tr>\n",
              "    <tr>\n",
              "      <th>393</th>\n",
              "      <td>394</td>\n",
              "      <td>Prof</td>\n",
              "      <td>A</td>\n",
              "      <td>31</td>\n",
              "      <td>19</td>\n",
              "      <td>Male</td>\n",
              "      <td>150564</td>\n",
              "    </tr>\n",
              "    <tr>\n",
              "      <th>394</th>\n",
              "      <td>395</td>\n",
              "      <td>Prof</td>\n",
              "      <td>A</td>\n",
              "      <td>42</td>\n",
              "      <td>25</td>\n",
              "      <td>Male</td>\n",
              "      <td>101738</td>\n",
              "    </tr>\n",
              "    <tr>\n",
              "      <th>395</th>\n",
              "      <td>396</td>\n",
              "      <td>Prof</td>\n",
              "      <td>A</td>\n",
              "      <td>25</td>\n",
              "      <td>15</td>\n",
              "      <td>Male</td>\n",
              "      <td>95329</td>\n",
              "    </tr>\n",
              "    <tr>\n",
              "      <th>396</th>\n",
              "      <td>397</td>\n",
              "      <td>AsstProf</td>\n",
              "      <td>A</td>\n",
              "      <td>8</td>\n",
              "      <td>4</td>\n",
              "      <td>Male</td>\n",
              "      <td>81035</td>\n",
              "    </tr>\n",
              "  </tbody>\n",
              "</table>\n",
              "</div>"
            ],
            "text/plain": [
              "     Unnamed: 0      rank discipline  yrs.since.phd  yrs.service   sex  salary\n",
              "392         393      Prof          A             33           30  Male  103106\n",
              "393         394      Prof          A             31           19  Male  150564\n",
              "394         395      Prof          A             42           25  Male  101738\n",
              "395         396      Prof          A             25           15  Male   95329\n",
              "396         397  AsstProf          A              8            4  Male   81035"
            ]
          },
          "metadata": {},
          "execution_count": 95
        }
      ]
    },
    {
      "cell_type": "code",
      "metadata": {
        "id": "nNjdIb0YbjBy",
        "colab": {
          "base_uri": "https://localhost:8080/",
          "height": 297
        },
        "outputId": "a71369e3-e3be-4932-8f65-1d31d520a47a"
      },
      "source": [
        "df.describe()"
      ],
      "execution_count": null,
      "outputs": [
        {
          "output_type": "execute_result",
          "data": {
            "text/html": [
              "<div>\n",
              "<style scoped>\n",
              "    .dataframe tbody tr th:only-of-type {\n",
              "        vertical-align: middle;\n",
              "    }\n",
              "\n",
              "    .dataframe tbody tr th {\n",
              "        vertical-align: top;\n",
              "    }\n",
              "\n",
              "    .dataframe thead th {\n",
              "        text-align: right;\n",
              "    }\n",
              "</style>\n",
              "<table border=\"1\" class=\"dataframe\">\n",
              "  <thead>\n",
              "    <tr style=\"text-align: right;\">\n",
              "      <th></th>\n",
              "      <th>Unnamed: 0</th>\n",
              "      <th>yrs.since.phd</th>\n",
              "      <th>yrs.service</th>\n",
              "      <th>salary</th>\n",
              "    </tr>\n",
              "  </thead>\n",
              "  <tbody>\n",
              "    <tr>\n",
              "      <th>count</th>\n",
              "      <td>397.000000</td>\n",
              "      <td>397.000000</td>\n",
              "      <td>397.000000</td>\n",
              "      <td>397.000000</td>\n",
              "    </tr>\n",
              "    <tr>\n",
              "      <th>mean</th>\n",
              "      <td>199.000000</td>\n",
              "      <td>22.314861</td>\n",
              "      <td>17.614610</td>\n",
              "      <td>113706.458438</td>\n",
              "    </tr>\n",
              "    <tr>\n",
              "      <th>std</th>\n",
              "      <td>114.748275</td>\n",
              "      <td>12.887003</td>\n",
              "      <td>13.006024</td>\n",
              "      <td>30289.038695</td>\n",
              "    </tr>\n",
              "    <tr>\n",
              "      <th>min</th>\n",
              "      <td>1.000000</td>\n",
              "      <td>1.000000</td>\n",
              "      <td>0.000000</td>\n",
              "      <td>57800.000000</td>\n",
              "    </tr>\n",
              "    <tr>\n",
              "      <th>25%</th>\n",
              "      <td>100.000000</td>\n",
              "      <td>12.000000</td>\n",
              "      <td>7.000000</td>\n",
              "      <td>91000.000000</td>\n",
              "    </tr>\n",
              "    <tr>\n",
              "      <th>50%</th>\n",
              "      <td>199.000000</td>\n",
              "      <td>21.000000</td>\n",
              "      <td>16.000000</td>\n",
              "      <td>107300.000000</td>\n",
              "    </tr>\n",
              "    <tr>\n",
              "      <th>75%</th>\n",
              "      <td>298.000000</td>\n",
              "      <td>32.000000</td>\n",
              "      <td>27.000000</td>\n",
              "      <td>134185.000000</td>\n",
              "    </tr>\n",
              "    <tr>\n",
              "      <th>max</th>\n",
              "      <td>397.000000</td>\n",
              "      <td>56.000000</td>\n",
              "      <td>60.000000</td>\n",
              "      <td>231545.000000</td>\n",
              "    </tr>\n",
              "  </tbody>\n",
              "</table>\n",
              "</div>"
            ],
            "text/plain": [
              "       Unnamed: 0  yrs.since.phd  yrs.service         salary\n",
              "count  397.000000     397.000000   397.000000     397.000000\n",
              "mean   199.000000      22.314861    17.614610  113706.458438\n",
              "std    114.748275      12.887003    13.006024   30289.038695\n",
              "min      1.000000       1.000000     0.000000   57800.000000\n",
              "25%    100.000000      12.000000     7.000000   91000.000000\n",
              "50%    199.000000      21.000000    16.000000  107300.000000\n",
              "75%    298.000000      32.000000    27.000000  134185.000000\n",
              "max    397.000000      56.000000    60.000000  231545.000000"
            ]
          },
          "metadata": {},
          "execution_count": 96
        }
      ]
    },
    {
      "cell_type": "markdown",
      "metadata": {
        "id": "oOu2hmOQaUAG"
      },
      "source": [
        "# Mean/median of all salaries"
      ]
    },
    {
      "cell_type": "code",
      "metadata": {
        "id": "wgaarFV3cVM9",
        "colab": {
          "base_uri": "https://localhost:8080/"
        },
        "outputId": "fec3296b-3b08-40ed-c9b4-06523252849f"
      },
      "source": [
        "# Mean of all salaries\n",
        "df.mean()\n"
      ],
      "execution_count": null,
      "outputs": [
        {
          "output_type": "execute_result",
          "data": {
            "text/plain": [
              "Unnamed: 0          199.000000\n",
              "yrs.since.phd        22.314861\n",
              "yrs.service          17.614610\n",
              "salary           113706.458438\n",
              "dtype: float64"
            ]
          },
          "metadata": {},
          "execution_count": 97
        }
      ]
    },
    {
      "cell_type": "code",
      "metadata": {
        "id": "1qQDqlPlcae3",
        "colab": {
          "base_uri": "https://localhost:8080/"
        },
        "outputId": "50121c1e-d112-4120-c562-b0a35707359a"
      },
      "source": [
        "# Median of all salaries\n",
        "df.median()"
      ],
      "execution_count": null,
      "outputs": [
        {
          "output_type": "execute_result",
          "data": {
            "text/plain": [
              "Unnamed: 0          199.0\n",
              "yrs.since.phd        21.0\n",
              "yrs.service          16.0\n",
              "salary           107300.0\n",
              "dtype: float64"
            ]
          },
          "metadata": {},
          "execution_count": 98
        }
      ]
    },
    {
      "cell_type": "markdown",
      "metadata": {
        "id": "yCy0KrhbaV5n"
      },
      "source": [
        "# Median salary between gender and/or rank(title) Etc...\n"
      ]
    },
    {
      "cell_type": "markdown",
      "metadata": {
        "id": "pBNcIW03WmS2"
      },
      "source": [
        "Making a new Data Frame that only has the columns 'sex' and 'salary'"
      ]
    },
    {
      "cell_type": "code",
      "metadata": {
        "id": "jWAVicJXc-lk",
        "colab": {
          "base_uri": "https://localhost:8080/",
          "height": 204
        },
        "outputId": "078a43c9-fce7-40cb-eb52-2223cb2a766e"
      },
      "source": [
        "sex_salary_df = df[['sex','salary']] \n",
        "sex_salary_df.head()"
      ],
      "execution_count": null,
      "outputs": [
        {
          "output_type": "execute_result",
          "data": {
            "text/html": [
              "<div>\n",
              "<style scoped>\n",
              "    .dataframe tbody tr th:only-of-type {\n",
              "        vertical-align: middle;\n",
              "    }\n",
              "\n",
              "    .dataframe tbody tr th {\n",
              "        vertical-align: top;\n",
              "    }\n",
              "\n",
              "    .dataframe thead th {\n",
              "        text-align: right;\n",
              "    }\n",
              "</style>\n",
              "<table border=\"1\" class=\"dataframe\">\n",
              "  <thead>\n",
              "    <tr style=\"text-align: right;\">\n",
              "      <th></th>\n",
              "      <th>sex</th>\n",
              "      <th>salary</th>\n",
              "    </tr>\n",
              "  </thead>\n",
              "  <tbody>\n",
              "    <tr>\n",
              "      <th>0</th>\n",
              "      <td>Male</td>\n",
              "      <td>139750</td>\n",
              "    </tr>\n",
              "    <tr>\n",
              "      <th>1</th>\n",
              "      <td>Male</td>\n",
              "      <td>173200</td>\n",
              "    </tr>\n",
              "    <tr>\n",
              "      <th>2</th>\n",
              "      <td>Male</td>\n",
              "      <td>79750</td>\n",
              "    </tr>\n",
              "    <tr>\n",
              "      <th>3</th>\n",
              "      <td>Male</td>\n",
              "      <td>115000</td>\n",
              "    </tr>\n",
              "    <tr>\n",
              "      <th>4</th>\n",
              "      <td>Male</td>\n",
              "      <td>141500</td>\n",
              "    </tr>\n",
              "  </tbody>\n",
              "</table>\n",
              "</div>"
            ],
            "text/plain": [
              "    sex  salary\n",
              "0  Male  139750\n",
              "1  Male  173200\n",
              "2  Male   79750\n",
              "3  Male  115000\n",
              "4  Male  141500"
            ]
          },
          "metadata": {},
          "execution_count": 99
        }
      ]
    },
    {
      "cell_type": "code",
      "metadata": {
        "id": "y3oA1K1bdH3k"
      },
      "source": [
        ""
      ],
      "execution_count": null,
      "outputs": []
    },
    {
      "cell_type": "code",
      "metadata": {
        "id": "6QKph0ec85Uf"
      },
      "source": [
        ""
      ],
      "execution_count": null,
      "outputs": []
    },
    {
      "cell_type": "markdown",
      "metadata": {
        "id": "j6FRmL60Wxsl"
      },
      "source": [
        "Finding the Median salary for all males"
      ]
    },
    {
      "cell_type": "code",
      "metadata": {
        "id": "ky6vVVnRdlnA",
        "colab": {
          "base_uri": "https://localhost:8080/"
        },
        "outputId": "df016fae-fef5-417f-9f30-99d7ba3195f8"
      },
      "source": [
        "#gender_sex = sex_salary_df['sex'].head()\n",
        "male_median = sex_salary_df[sex_salary_df['sex'] == 'Male'].median()\n",
        "print(male_median)"
      ],
      "execution_count": null,
      "outputs": [
        {
          "output_type": "stream",
          "name": "stdout",
          "text": [
            "salary    108043.0\n",
            "dtype: float64\n"
          ]
        }
      ]
    },
    {
      "cell_type": "code",
      "metadata": {
        "id": "yqVT-hX78_qk",
        "colab": {
          "base_uri": "https://localhost:8080/",
          "height": 142
        },
        "outputId": "a466a57a-f5bd-4988-e060-6074c95643d3"
      },
      "source": [
        "sex_salary_df.groupby(['sex']).median()"
      ],
      "execution_count": null,
      "outputs": [
        {
          "output_type": "execute_result",
          "data": {
            "text/html": [
              "<div>\n",
              "<style scoped>\n",
              "    .dataframe tbody tr th:only-of-type {\n",
              "        vertical-align: middle;\n",
              "    }\n",
              "\n",
              "    .dataframe tbody tr th {\n",
              "        vertical-align: top;\n",
              "    }\n",
              "\n",
              "    .dataframe thead th {\n",
              "        text-align: right;\n",
              "    }\n",
              "</style>\n",
              "<table border=\"1\" class=\"dataframe\">\n",
              "  <thead>\n",
              "    <tr style=\"text-align: right;\">\n",
              "      <th></th>\n",
              "      <th>salary</th>\n",
              "    </tr>\n",
              "    <tr>\n",
              "      <th>sex</th>\n",
              "      <th></th>\n",
              "    </tr>\n",
              "  </thead>\n",
              "  <tbody>\n",
              "    <tr>\n",
              "      <th>Female</th>\n",
              "      <td>103750</td>\n",
              "    </tr>\n",
              "    <tr>\n",
              "      <th>Male</th>\n",
              "      <td>108043</td>\n",
              "    </tr>\n",
              "  </tbody>\n",
              "</table>\n",
              "</div>"
            ],
            "text/plain": [
              "        salary\n",
              "sex           \n",
              "Female  103750\n",
              "Male    108043"
            ]
          },
          "metadata": {},
          "execution_count": 101
        }
      ]
    },
    {
      "cell_type": "code",
      "metadata": {
        "id": "DA0YteZ78_td"
      },
      "source": [
        ""
      ],
      "execution_count": null,
      "outputs": []
    },
    {
      "cell_type": "code",
      "metadata": {
        "id": "c9qQwX7e8_v5"
      },
      "source": [
        ""
      ],
      "execution_count": null,
      "outputs": []
    },
    {
      "cell_type": "markdown",
      "metadata": {
        "id": "LeJTjR7IXAfs"
      },
      "source": [
        "Finding the Median salary for all females"
      ]
    },
    {
      "cell_type": "code",
      "metadata": {
        "id": "1oUJYrOP9Fub",
        "colab": {
          "base_uri": "https://localhost:8080/"
        },
        "outputId": "383f5078-644b-4faa-aa45-5ba44ad1b77d"
      },
      "source": [
        "female_median = sex_salary_df[sex_salary_df['sex'] == 'Female'].median()\n",
        "print(female_median)"
      ],
      "execution_count": null,
      "outputs": [
        {
          "output_type": "stream",
          "name": "stdout",
          "text": [
            "salary    103750.0\n",
            "dtype: float64\n"
          ]
        }
      ]
    },
    {
      "cell_type": "code",
      "metadata": {
        "id": "3sgja0d49Fxm",
        "colab": {
          "base_uri": "https://localhost:8080/",
          "height": 142
        },
        "outputId": "35272b62-84ba-442b-cbdd-d400e915738d"
      },
      "source": [
        "sex_salary_df.groupby(['sex']).median()"
      ],
      "execution_count": null,
      "outputs": [
        {
          "output_type": "execute_result",
          "data": {
            "text/html": [
              "<div>\n",
              "<style scoped>\n",
              "    .dataframe tbody tr th:only-of-type {\n",
              "        vertical-align: middle;\n",
              "    }\n",
              "\n",
              "    .dataframe tbody tr th {\n",
              "        vertical-align: top;\n",
              "    }\n",
              "\n",
              "    .dataframe thead th {\n",
              "        text-align: right;\n",
              "    }\n",
              "</style>\n",
              "<table border=\"1\" class=\"dataframe\">\n",
              "  <thead>\n",
              "    <tr style=\"text-align: right;\">\n",
              "      <th></th>\n",
              "      <th>salary</th>\n",
              "    </tr>\n",
              "    <tr>\n",
              "      <th>sex</th>\n",
              "      <th></th>\n",
              "    </tr>\n",
              "  </thead>\n",
              "  <tbody>\n",
              "    <tr>\n",
              "      <th>Female</th>\n",
              "      <td>103750</td>\n",
              "    </tr>\n",
              "    <tr>\n",
              "      <th>Male</th>\n",
              "      <td>108043</td>\n",
              "    </tr>\n",
              "  </tbody>\n",
              "</table>\n",
              "</div>"
            ],
            "text/plain": [
              "        salary\n",
              "sex           \n",
              "Female  103750\n",
              "Male    108043"
            ]
          },
          "metadata": {},
          "execution_count": 103
        }
      ]
    },
    {
      "cell_type": "code",
      "metadata": {
        "id": "dazbnwns9F1l"
      },
      "source": [
        ""
      ],
      "execution_count": null,
      "outputs": []
    },
    {
      "cell_type": "code",
      "metadata": {
        "id": "CxFzs0GS9F5k"
      },
      "source": [
        ""
      ],
      "execution_count": null,
      "outputs": []
    },
    {
      "cell_type": "markdown",
      "metadata": {
        "id": "5Tw_igCfXWmB"
      },
      "source": [
        "Comparing the Mean salary of Males and Females"
      ]
    },
    {
      "cell_type": "code",
      "metadata": {
        "id": "aPyxwdS69LpN",
        "colab": {
          "base_uri": "https://localhost:8080/"
        },
        "outputId": "0d76d82f-e529-4b8b-b6ce-e0da0d62b765"
      },
      "source": [
        "male_mean = sex_salary_df[sex_salary_df['sex'] == 'Male'].mean()\n",
        "print(male_mean)\n",
        "\n",
        "female_mean = sex_salary_df[sex_salary_df['sex'] == 'Female'].mean()\n",
        "print(female_mean)\n"
      ],
      "execution_count": null,
      "outputs": [
        {
          "output_type": "stream",
          "name": "stdout",
          "text": [
            "salary    115090.418994\n",
            "dtype: float64\n",
            "salary    101002.410256\n",
            "dtype: float64\n"
          ]
        }
      ]
    },
    {
      "cell_type": "code",
      "metadata": {
        "id": "xOWSRisa9LyG"
      },
      "source": [
        "# The difference between mean salaries of male and female\n",
        "#Males have a higher mean salary \n"
      ],
      "execution_count": null,
      "outputs": []
    },
    {
      "cell_type": "markdown",
      "metadata": {
        "id": "fufsyykZafDa"
      },
      "source": [
        "# Data Wrangling – perform some basic transformations on the data"
      ]
    },
    {
      "cell_type": "markdown",
      "metadata": {
        "id": "KWpSuxybUGWK"
      },
      "source": [
        "People who have 20 years of experience (Total: 157), (Mean Salary: 122,520.66)"
      ]
    },
    {
      "cell_type": "code",
      "metadata": {
        "id": "n5sdVrDN9S7u",
        "colab": {
          "base_uri": "https://localhost:8080/",
          "height": 359
        },
        "outputId": "d4dc95e3-8f33-462a-80b6-629ac8102694"
      },
      "source": [
        "experience = df[['yrs.service','salary', 'sex']] \n",
        "\n",
        "twenty_years = experience[experience['yrs.service'] == 20]\n",
        "\n",
        "twenty_years\n",
        "\n"
      ],
      "execution_count": null,
      "outputs": [
        {
          "output_type": "execute_result",
          "data": {
            "text/html": [
              "<div>\n",
              "<style scoped>\n",
              "    .dataframe tbody tr th:only-of-type {\n",
              "        vertical-align: middle;\n",
              "    }\n",
              "\n",
              "    .dataframe tbody tr th {\n",
              "        vertical-align: top;\n",
              "    }\n",
              "\n",
              "    .dataframe thead th {\n",
              "        text-align: right;\n",
              "    }\n",
              "</style>\n",
              "<table border=\"1\" class=\"dataframe\">\n",
              "  <thead>\n",
              "    <tr style=\"text-align: right;\">\n",
              "      <th></th>\n",
              "      <th>yrs.service</th>\n",
              "      <th>salary</th>\n",
              "      <th>sex</th>\n",
              "    </tr>\n",
              "  </thead>\n",
              "  <tbody>\n",
              "    <tr>\n",
              "      <th>8</th>\n",
              "      <td>20</td>\n",
              "      <td>119250</td>\n",
              "      <td>Male</td>\n",
              "    </tr>\n",
              "    <tr>\n",
              "      <th>16</th>\n",
              "      <td>20</td>\n",
              "      <td>101000</td>\n",
              "      <td>Male</td>\n",
              "    </tr>\n",
              "    <tr>\n",
              "      <th>82</th>\n",
              "      <td>20</td>\n",
              "      <td>144640</td>\n",
              "      <td>Male</td>\n",
              "    </tr>\n",
              "    <tr>\n",
              "      <th>94</th>\n",
              "      <td>20</td>\n",
              "      <td>123683</td>\n",
              "      <td>Male</td>\n",
              "    </tr>\n",
              "    <tr>\n",
              "      <th>173</th>\n",
              "      <td>20</td>\n",
              "      <td>134185</td>\n",
              "      <td>Male</td>\n",
              "    </tr>\n",
              "    <tr>\n",
              "      <th>209</th>\n",
              "      <td>20</td>\n",
              "      <td>163200</td>\n",
              "      <td>Male</td>\n",
              "    </tr>\n",
              "    <tr>\n",
              "      <th>223</th>\n",
              "      <td>20</td>\n",
              "      <td>129600</td>\n",
              "      <td>Male</td>\n",
              "    </tr>\n",
              "    <tr>\n",
              "      <th>225</th>\n",
              "      <td>20</td>\n",
              "      <td>122400</td>\n",
              "      <td>Male</td>\n",
              "    </tr>\n",
              "    <tr>\n",
              "      <th>353</th>\n",
              "      <td>20</td>\n",
              "      <td>138000</td>\n",
              "      <td>Male</td>\n",
              "    </tr>\n",
              "    <tr>\n",
              "      <th>371</th>\n",
              "      <td>20</td>\n",
              "      <td>110515</td>\n",
              "      <td>Male</td>\n",
              "    </tr>\n",
              "  </tbody>\n",
              "</table>\n",
              "</div>"
            ],
            "text/plain": [
              "     yrs.service  salary   sex\n",
              "8             20  119250  Male\n",
              "16            20  101000  Male\n",
              "82            20  144640  Male\n",
              "94            20  123683  Male\n",
              "173           20  134185  Male\n",
              "209           20  163200  Male\n",
              "223           20  129600  Male\n",
              "225           20  122400  Male\n",
              "353           20  138000  Male\n",
              "371           20  110515  Male"
            ]
          },
          "metadata": {},
          "execution_count": 106
        }
      ]
    },
    {
      "cell_type": "code",
      "metadata": {
        "id": "33ZLAyp69Ucw",
        "colab": {
          "base_uri": "https://localhost:8080/"
        },
        "outputId": "3780bdf1-8bee-4881-e684-154920e6fd47"
      },
      "source": [
        "twenty_years.mean()"
      ],
      "execution_count": null,
      "outputs": [
        {
          "output_type": "execute_result",
          "data": {
            "text/plain": [
              "yrs.service        20.0\n",
              "salary         128647.3\n",
              "dtype: float64"
            ]
          },
          "metadata": {},
          "execution_count": 107
        }
      ]
    },
    {
      "cell_type": "code",
      "metadata": {
        "id": "uoTGBfZr9Ufy"
      },
      "source": [
        ""
      ],
      "execution_count": null,
      "outputs": []
    },
    {
      "cell_type": "markdown",
      "metadata": {
        "id": "rnhjMu7qX7ao"
      },
      "source": [
        "Comparing the salaries of people who have 20+ years of experience vs less than 20 years of experience"
      ]
    },
    {
      "cell_type": "code",
      "metadata": {
        "id": "VLBmpIXc9gKh",
        "colab": {
          "base_uri": "https://localhost:8080/",
          "height": 419
        },
        "outputId": "0661ac71-9aec-41d2-b068-5b5d890f3bdb"
      },
      "source": [
        "less_than_twenty_years = experience[experience['yrs.service'] < 20]\n",
        "less_than_twenty_years"
      ],
      "execution_count": null,
      "outputs": [
        {
          "output_type": "execute_result",
          "data": {
            "text/html": [
              "<div>\n",
              "<style scoped>\n",
              "    .dataframe tbody tr th:only-of-type {\n",
              "        vertical-align: middle;\n",
              "    }\n",
              "\n",
              "    .dataframe tbody tr th {\n",
              "        vertical-align: top;\n",
              "    }\n",
              "\n",
              "    .dataframe thead th {\n",
              "        text-align: right;\n",
              "    }\n",
              "</style>\n",
              "<table border=\"1\" class=\"dataframe\">\n",
              "  <thead>\n",
              "    <tr style=\"text-align: right;\">\n",
              "      <th></th>\n",
              "      <th>yrs.service</th>\n",
              "      <th>salary</th>\n",
              "      <th>sex</th>\n",
              "    </tr>\n",
              "  </thead>\n",
              "  <tbody>\n",
              "    <tr>\n",
              "      <th>0</th>\n",
              "      <td>18</td>\n",
              "      <td>139750</td>\n",
              "      <td>Male</td>\n",
              "    </tr>\n",
              "    <tr>\n",
              "      <th>1</th>\n",
              "      <td>16</td>\n",
              "      <td>173200</td>\n",
              "      <td>Male</td>\n",
              "    </tr>\n",
              "    <tr>\n",
              "      <th>2</th>\n",
              "      <td>3</td>\n",
              "      <td>79750</td>\n",
              "      <td>Male</td>\n",
              "    </tr>\n",
              "    <tr>\n",
              "      <th>5</th>\n",
              "      <td>6</td>\n",
              "      <td>97000</td>\n",
              "      <td>Male</td>\n",
              "    </tr>\n",
              "    <tr>\n",
              "      <th>9</th>\n",
              "      <td>18</td>\n",
              "      <td>129000</td>\n",
              "      <td>Female</td>\n",
              "    </tr>\n",
              "    <tr>\n",
              "      <th>...</th>\n",
              "      <td>...</td>\n",
              "      <td>...</td>\n",
              "      <td>...</td>\n",
              "    </tr>\n",
              "    <tr>\n",
              "      <th>390</th>\n",
              "      <td>19</td>\n",
              "      <td>166605</td>\n",
              "      <td>Male</td>\n",
              "    </tr>\n",
              "    <tr>\n",
              "      <th>391</th>\n",
              "      <td>19</td>\n",
              "      <td>151292</td>\n",
              "      <td>Male</td>\n",
              "    </tr>\n",
              "    <tr>\n",
              "      <th>393</th>\n",
              "      <td>19</td>\n",
              "      <td>150564</td>\n",
              "      <td>Male</td>\n",
              "    </tr>\n",
              "    <tr>\n",
              "      <th>395</th>\n",
              "      <td>15</td>\n",
              "      <td>95329</td>\n",
              "      <td>Male</td>\n",
              "    </tr>\n",
              "    <tr>\n",
              "      <th>396</th>\n",
              "      <td>4</td>\n",
              "      <td>81035</td>\n",
              "      <td>Male</td>\n",
              "    </tr>\n",
              "  </tbody>\n",
              "</table>\n",
              "<p>240 rows × 3 columns</p>\n",
              "</div>"
            ],
            "text/plain": [
              "     yrs.service  salary     sex\n",
              "0             18  139750    Male\n",
              "1             16  173200    Male\n",
              "2              3   79750    Male\n",
              "5              6   97000    Male\n",
              "9             18  129000  Female\n",
              "..           ...     ...     ...\n",
              "390           19  166605    Male\n",
              "391           19  151292    Male\n",
              "393           19  150564    Male\n",
              "395           15   95329    Male\n",
              "396            4   81035    Male\n",
              "\n",
              "[240 rows x 3 columns]"
            ]
          },
          "metadata": {},
          "execution_count": 108
        }
      ]
    },
    {
      "cell_type": "code",
      "metadata": {
        "id": "r5u5KyDe9gMn",
        "colab": {
          "base_uri": "https://localhost:8080/"
        },
        "outputId": "7f9f8019-f2e8-4687-f091-0b996ced91ff"
      },
      "source": [
        "less_than_twenty_years.mean()"
      ],
      "execution_count": null,
      "outputs": [
        {
          "output_type": "execute_result",
          "data": {
            "text/plain": [
              "yrs.service         8.820833\n",
              "salary         107940.504167\n",
              "dtype: float64"
            ]
          },
          "metadata": {},
          "execution_count": 109
        }
      ]
    },
    {
      "cell_type": "code",
      "metadata": {
        "id": "vcohgqM09gP_"
      },
      "source": [
        "#The salary is higher for people who have more years of experience but they are both high."
      ],
      "execution_count": null,
      "outputs": []
    },
    {
      "cell_type": "markdown",
      "metadata": {
        "id": "54eM4tj4V66j"
      },
      "source": [
        "People who have salary of greater than or equal to 200,000"
      ]
    },
    {
      "cell_type": "code",
      "metadata": {
        "id": "pGOB4eEY9nwG",
        "colab": {
          "base_uri": "https://localhost:8080/",
          "height": 142
        },
        "outputId": "225c51cb-d6e3-4f5a-a568-a7886c31a7d6"
      },
      "source": [
        "greater_than_200000 = df[df['salary'] >= 200000]\n",
        "greater_than_200000"
      ],
      "execution_count": null,
      "outputs": [
        {
          "output_type": "execute_result",
          "data": {
            "text/html": [
              "<div>\n",
              "<style scoped>\n",
              "    .dataframe tbody tr th:only-of-type {\n",
              "        vertical-align: middle;\n",
              "    }\n",
              "\n",
              "    .dataframe tbody tr th {\n",
              "        vertical-align: top;\n",
              "    }\n",
              "\n",
              "    .dataframe thead th {\n",
              "        text-align: right;\n",
              "    }\n",
              "</style>\n",
              "<table border=\"1\" class=\"dataframe\">\n",
              "  <thead>\n",
              "    <tr style=\"text-align: right;\">\n",
              "      <th></th>\n",
              "      <th>Unnamed: 0</th>\n",
              "      <th>rank</th>\n",
              "      <th>discipline</th>\n",
              "      <th>yrs.since.phd</th>\n",
              "      <th>yrs.service</th>\n",
              "      <th>sex</th>\n",
              "      <th>salary</th>\n",
              "    </tr>\n",
              "  </thead>\n",
              "  <tbody>\n",
              "    <tr>\n",
              "      <th>43</th>\n",
              "      <td>44</td>\n",
              "      <td>Prof</td>\n",
              "      <td>B</td>\n",
              "      <td>38</td>\n",
              "      <td>38</td>\n",
              "      <td>Male</td>\n",
              "      <td>231545</td>\n",
              "    </tr>\n",
              "    <tr>\n",
              "      <th>249</th>\n",
              "      <td>250</td>\n",
              "      <td>Prof</td>\n",
              "      <td>A</td>\n",
              "      <td>29</td>\n",
              "      <td>7</td>\n",
              "      <td>Male</td>\n",
              "      <td>204000</td>\n",
              "    </tr>\n",
              "    <tr>\n",
              "      <th>364</th>\n",
              "      <td>365</td>\n",
              "      <td>Prof</td>\n",
              "      <td>A</td>\n",
              "      <td>43</td>\n",
              "      <td>43</td>\n",
              "      <td>Male</td>\n",
              "      <td>205500</td>\n",
              "    </tr>\n",
              "  </tbody>\n",
              "</table>\n",
              "</div>"
            ],
            "text/plain": [
              "     Unnamed: 0  rank discipline  yrs.since.phd  yrs.service   sex  salary\n",
              "43           44  Prof          B             38           38  Male  231545\n",
              "249         250  Prof          A             29            7  Male  204000\n",
              "364         365  Prof          A             43           43  Male  205500"
            ]
          },
          "metadata": {},
          "execution_count": 111
        }
      ]
    },
    {
      "cell_type": "code",
      "metadata": {
        "id": "K1vHeaSS9nzB"
      },
      "source": [
        ""
      ],
      "execution_count": null,
      "outputs": []
    },
    {
      "cell_type": "markdown",
      "metadata": {
        "id": "8zwXwZF0ZbPG"
      },
      "source": [
        "Your Findings here...\n",
        "\n",
        "Only 3 people had salaries greater than or equal to 200,000, they were all male and two out of three had over 20 years of experience. They are also all professors. "
      ]
    },
    {
      "cell_type": "markdown",
      "metadata": {
        "id": "Omuf-X37agBG"
      },
      "source": [
        "# Rename values, subset columns, etc"
      ]
    },
    {
      "cell_type": "code",
      "metadata": {
        "id": "6DzowXPt9vM3",
        "colab": {
          "base_uri": "https://localhost:8080/",
          "height": 204
        },
        "outputId": "758b5827-e03a-4364-cc88-bf7b88e4534a"
      },
      "source": [
        "df.head()\n"
      ],
      "execution_count": null,
      "outputs": [
        {
          "output_type": "execute_result",
          "data": {
            "text/html": [
              "<div>\n",
              "<style scoped>\n",
              "    .dataframe tbody tr th:only-of-type {\n",
              "        vertical-align: middle;\n",
              "    }\n",
              "\n",
              "    .dataframe tbody tr th {\n",
              "        vertical-align: top;\n",
              "    }\n",
              "\n",
              "    .dataframe thead th {\n",
              "        text-align: right;\n",
              "    }\n",
              "</style>\n",
              "<table border=\"1\" class=\"dataframe\">\n",
              "  <thead>\n",
              "    <tr style=\"text-align: right;\">\n",
              "      <th></th>\n",
              "      <th>Unnamed: 0</th>\n",
              "      <th>rank</th>\n",
              "      <th>discipline</th>\n",
              "      <th>yrs.since.phd</th>\n",
              "      <th>yrs.service</th>\n",
              "      <th>sex</th>\n",
              "      <th>salary</th>\n",
              "    </tr>\n",
              "  </thead>\n",
              "  <tbody>\n",
              "    <tr>\n",
              "      <th>0</th>\n",
              "      <td>1</td>\n",
              "      <td>Prof</td>\n",
              "      <td>B</td>\n",
              "      <td>19</td>\n",
              "      <td>18</td>\n",
              "      <td>Male</td>\n",
              "      <td>139750</td>\n",
              "    </tr>\n",
              "    <tr>\n",
              "      <th>1</th>\n",
              "      <td>2</td>\n",
              "      <td>Prof</td>\n",
              "      <td>B</td>\n",
              "      <td>20</td>\n",
              "      <td>16</td>\n",
              "      <td>Male</td>\n",
              "      <td>173200</td>\n",
              "    </tr>\n",
              "    <tr>\n",
              "      <th>2</th>\n",
              "      <td>3</td>\n",
              "      <td>AsstProf</td>\n",
              "      <td>B</td>\n",
              "      <td>4</td>\n",
              "      <td>3</td>\n",
              "      <td>Male</td>\n",
              "      <td>79750</td>\n",
              "    </tr>\n",
              "    <tr>\n",
              "      <th>3</th>\n",
              "      <td>4</td>\n",
              "      <td>Prof</td>\n",
              "      <td>B</td>\n",
              "      <td>45</td>\n",
              "      <td>39</td>\n",
              "      <td>Male</td>\n",
              "      <td>115000</td>\n",
              "    </tr>\n",
              "    <tr>\n",
              "      <th>4</th>\n",
              "      <td>5</td>\n",
              "      <td>Prof</td>\n",
              "      <td>B</td>\n",
              "      <td>40</td>\n",
              "      <td>41</td>\n",
              "      <td>Male</td>\n",
              "      <td>141500</td>\n",
              "    </tr>\n",
              "  </tbody>\n",
              "</table>\n",
              "</div>"
            ],
            "text/plain": [
              "   Unnamed: 0      rank discipline  yrs.since.phd  yrs.service   sex  salary\n",
              "0           1      Prof          B             19           18  Male  139750\n",
              "1           2      Prof          B             20           16  Male  173200\n",
              "2           3  AsstProf          B              4            3  Male   79750\n",
              "3           4      Prof          B             45           39  Male  115000\n",
              "4           5      Prof          B             40           41  Male  141500"
            ]
          },
          "metadata": {},
          "execution_count": 112
        }
      ]
    },
    {
      "cell_type": "code",
      "metadata": {
        "id": "k8Dah3NK9vYR",
        "colab": {
          "base_uri": "https://localhost:8080/",
          "height": 419
        },
        "outputId": "3bbac236-d4c9-40c0-cc4c-23fb5fded813"
      },
      "source": [
        "df.rename(columns={'Unnamed: 0': 'ID', 'yrs.service': 'yrs_of_service', 'yrs.since.phd': 'yrs_since_phd'}, inplace=True)\n",
        "df"
      ],
      "execution_count": null,
      "outputs": [
        {
          "output_type": "execute_result",
          "data": {
            "text/html": [
              "<div>\n",
              "<style scoped>\n",
              "    .dataframe tbody tr th:only-of-type {\n",
              "        vertical-align: middle;\n",
              "    }\n",
              "\n",
              "    .dataframe tbody tr th {\n",
              "        vertical-align: top;\n",
              "    }\n",
              "\n",
              "    .dataframe thead th {\n",
              "        text-align: right;\n",
              "    }\n",
              "</style>\n",
              "<table border=\"1\" class=\"dataframe\">\n",
              "  <thead>\n",
              "    <tr style=\"text-align: right;\">\n",
              "      <th></th>\n",
              "      <th>ID</th>\n",
              "      <th>rank</th>\n",
              "      <th>discipline</th>\n",
              "      <th>yrs_since_phd</th>\n",
              "      <th>yrs_of_service</th>\n",
              "      <th>sex</th>\n",
              "      <th>salary</th>\n",
              "    </tr>\n",
              "  </thead>\n",
              "  <tbody>\n",
              "    <tr>\n",
              "      <th>0</th>\n",
              "      <td>1</td>\n",
              "      <td>Prof</td>\n",
              "      <td>B</td>\n",
              "      <td>19</td>\n",
              "      <td>18</td>\n",
              "      <td>Male</td>\n",
              "      <td>139750</td>\n",
              "    </tr>\n",
              "    <tr>\n",
              "      <th>1</th>\n",
              "      <td>2</td>\n",
              "      <td>Prof</td>\n",
              "      <td>B</td>\n",
              "      <td>20</td>\n",
              "      <td>16</td>\n",
              "      <td>Male</td>\n",
              "      <td>173200</td>\n",
              "    </tr>\n",
              "    <tr>\n",
              "      <th>2</th>\n",
              "      <td>3</td>\n",
              "      <td>AsstProf</td>\n",
              "      <td>B</td>\n",
              "      <td>4</td>\n",
              "      <td>3</td>\n",
              "      <td>Male</td>\n",
              "      <td>79750</td>\n",
              "    </tr>\n",
              "    <tr>\n",
              "      <th>3</th>\n",
              "      <td>4</td>\n",
              "      <td>Prof</td>\n",
              "      <td>B</td>\n",
              "      <td>45</td>\n",
              "      <td>39</td>\n",
              "      <td>Male</td>\n",
              "      <td>115000</td>\n",
              "    </tr>\n",
              "    <tr>\n",
              "      <th>4</th>\n",
              "      <td>5</td>\n",
              "      <td>Prof</td>\n",
              "      <td>B</td>\n",
              "      <td>40</td>\n",
              "      <td>41</td>\n",
              "      <td>Male</td>\n",
              "      <td>141500</td>\n",
              "    </tr>\n",
              "    <tr>\n",
              "      <th>...</th>\n",
              "      <td>...</td>\n",
              "      <td>...</td>\n",
              "      <td>...</td>\n",
              "      <td>...</td>\n",
              "      <td>...</td>\n",
              "      <td>...</td>\n",
              "      <td>...</td>\n",
              "    </tr>\n",
              "    <tr>\n",
              "      <th>392</th>\n",
              "      <td>393</td>\n",
              "      <td>Prof</td>\n",
              "      <td>A</td>\n",
              "      <td>33</td>\n",
              "      <td>30</td>\n",
              "      <td>Male</td>\n",
              "      <td>103106</td>\n",
              "    </tr>\n",
              "    <tr>\n",
              "      <th>393</th>\n",
              "      <td>394</td>\n",
              "      <td>Prof</td>\n",
              "      <td>A</td>\n",
              "      <td>31</td>\n",
              "      <td>19</td>\n",
              "      <td>Male</td>\n",
              "      <td>150564</td>\n",
              "    </tr>\n",
              "    <tr>\n",
              "      <th>394</th>\n",
              "      <td>395</td>\n",
              "      <td>Prof</td>\n",
              "      <td>A</td>\n",
              "      <td>42</td>\n",
              "      <td>25</td>\n",
              "      <td>Male</td>\n",
              "      <td>101738</td>\n",
              "    </tr>\n",
              "    <tr>\n",
              "      <th>395</th>\n",
              "      <td>396</td>\n",
              "      <td>Prof</td>\n",
              "      <td>A</td>\n",
              "      <td>25</td>\n",
              "      <td>15</td>\n",
              "      <td>Male</td>\n",
              "      <td>95329</td>\n",
              "    </tr>\n",
              "    <tr>\n",
              "      <th>396</th>\n",
              "      <td>397</td>\n",
              "      <td>AsstProf</td>\n",
              "      <td>A</td>\n",
              "      <td>8</td>\n",
              "      <td>4</td>\n",
              "      <td>Male</td>\n",
              "      <td>81035</td>\n",
              "    </tr>\n",
              "  </tbody>\n",
              "</table>\n",
              "<p>397 rows × 7 columns</p>\n",
              "</div>"
            ],
            "text/plain": [
              "      ID      rank discipline  yrs_since_phd  yrs_of_service   sex  salary\n",
              "0      1      Prof          B             19              18  Male  139750\n",
              "1      2      Prof          B             20              16  Male  173200\n",
              "2      3  AsstProf          B              4               3  Male   79750\n",
              "3      4      Prof          B             45              39  Male  115000\n",
              "4      5      Prof          B             40              41  Male  141500\n",
              "..   ...       ...        ...            ...             ...   ...     ...\n",
              "392  393      Prof          A             33              30  Male  103106\n",
              "393  394      Prof          A             31              19  Male  150564\n",
              "394  395      Prof          A             42              25  Male  101738\n",
              "395  396      Prof          A             25              15  Male   95329\n",
              "396  397  AsstProf          A              8               4  Male   81035\n",
              "\n",
              "[397 rows x 7 columns]"
            ]
          },
          "metadata": {},
          "execution_count": 113
        }
      ]
    },
    {
      "cell_type": "markdown",
      "metadata": {
        "id": "aExLKbRRaiAv"
      },
      "source": [
        "# Create some simple visualizations showing some simple statistics"
      ]
    },
    {
      "cell_type": "code",
      "metadata": {
        "id": "JX_P5QHV92Ji",
        "colab": {
          "base_uri": "https://localhost:8080/",
          "height": 280
        },
        "outputId": "631bd4f7-a34e-43ae-f8b0-91a17f0581a8"
      },
      "source": [
        "df.plot(kind='scatter',x='yrs_of_service',y='salary',color='red')\n",
        "plt.show()"
      ],
      "execution_count": null,
      "outputs": [
        {
          "output_type": "display_data",
          "data": {
            "image/png": "[encoded data removed]",
            "text/plain": [
              "<Figure size 432x288 with 1 Axes>"
            ]
          },
          "metadata": {
            "needs_background": "light"
          }
        }
      ]
    },
    {
      "cell_type": "code",
      "metadata": {
        "id": "S_Bu49tD92ON",
        "colab": {
          "base_uri": "https://localhost:8080/",
          "height": 282
        },
        "outputId": "d81671fe-cf2b-41d1-c1ab-0243fff882d8"
      },
      "source": [
        "#People with 20 years of experience \n",
        "twenty_years.plot(kind='bar',x='yrs.service',y='salary')\n",
        "\n",
        "plt.show()\n"
      ],
      "execution_count": null,
      "outputs": [
        {
          "output_type": "display_data",
          "data": {
            "image/png": "[encoded data removed]",
            "text/plain": [
              "<Figure size 432x288 with 1 Axes>"
            ]
          },
          "metadata": {
            "needs_background": "light"
          }
        }
      ]
    },
    {
      "cell_type": "code",
      "metadata": {
        "id": "9lNOSSEV92RR",
        "colab": {
          "base_uri": "https://localhost:8080/",
          "height": 322
        },
        "outputId": "a8a8f14b-789b-4b8f-d5e0-b65eb820c3d1"
      },
      "source": [
        "df = df.groupby(['sex'])['salary'].count().sort_values(ascending=False)\n",
        "df.plot(kind='bar', color=['green', 'red'])"
      ],
      "execution_count": null,
      "outputs": [
        {
          "output_type": "execute_result",
          "data": {
            "text/plain": [
              "<matplotlib.axes._subplots.AxesSubplot at 0x7f94f3130950>"
            ]
          },
          "metadata": {},
          "execution_count": 116
        },
        {
          "output_type": "display_data",
          "data": {
            "image/png": "[encoded data removed]",
            "text/plain": [
              "<Figure size 432x288 with 1 Axes>"
            ]
          },
          "metadata": {
            "needs_background": "light"
          }
        }
      ]
    },
    {
      "cell_type": "markdown",
      "metadata": {
        "id": "vM_4yRvgd6h2"
      },
      "source": [
        "Your observations from the visuals: "
      ]
    },
    {
      "cell_type": "markdown",
      "metadata": {
        "id": "mZoOuCUvakSc"
      },
      "source": [
        "# Draw some conclusions based on the data.  What did you discover?"
      ]
    },
    {
      "cell_type": "markdown",
      "metadata": {
        "id": "gBp8qWEDbhKH"
      },
      "source": [
        "Based on the analysis performed above, the conclusions are as follows:\n",
        "\n",
        "Your Findings here...\n",
        "People with 20 years of experience have an mean salary of 128,647 vs people with less than 20 have 107,940. There were only 3 people with salaries over 200000. \n",
        "\n",
        "\n",
        "\n",
        "I also discovered that the -\n",
        "\n",
        "Most slaries started off small and increased as years of experience increased. I also noticed that Males had a higher mean salary compared to females. \n",
        "\n",
        "\n",
        "\n"
      ]
    }
  ]
}